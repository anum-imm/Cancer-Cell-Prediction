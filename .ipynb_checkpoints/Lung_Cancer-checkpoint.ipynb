{
 "cells": [
  {
   "cell_type": "code",
   "execution_count": 13,
   "metadata": {
    "id": "ZXoO7XPa1h0N"
   },
   "outputs": [],
   "source": [
    "#Importing libraries\n",
    "import numpy as np\n",
    "import pandas as pd\n",
    "import matplotlib.pyplot as plt\n",
    "import seaborn as sns\n",
    "import warnings\n",
    "warnings.filterwarnings('ignore')"
   ]
  },
  {
   "cell_type": "code",
   "execution_count": 14,
   "metadata": {
    "id": "kQ3LlbbI11I-"
   },
   "outputs": [],
   "source": [
    "#Loading data into dataframe(df)\n",
    "df=pd.read_csv('Lung_cancer_data.csv')"
   ]
  },
  {
   "cell_type": "code",
   "execution_count": 15,
   "metadata": {
    "colab": {
     "base_uri": "https://localhost:8080/"
    },
    "id": "BPMRyORA129S",
    "outputId": "9c7f706d-a9ea-4af4-b722-31cd136534c6"
   },
   "outputs": [
    {
     "name": "stdout",
     "output_type": "stream",
     "text": [
      "   class  attribute2  attribute3  attribute4  attribute5  attribute6  \\\n",
      "0      1           0           3           0         NaN           0   \n",
      "1      1           0           3           3         1.0           0   \n",
      "2      1           0           3           3         2.0           0   \n",
      "3      1           0           2           3         2.0           1   \n",
      "4      1           0           3           2         1.0           1   \n",
      "5      1           0           3           3         2.0           0   \n",
      "6      1           0           3           2         1.0           0   \n",
      "7      1           0           2           2         1.0           0   \n",
      "8      1           0           3           1         1.0           0   \n",
      "9      2           0           2           3         2.0           0   \n",
      "\n",
      "   attribute7  attribute8  attribute9  attribute10  ...  attribute48  \\\n",
      "0           2           2           2            1  ...            2   \n",
      "1           3           1           3            1  ...            2   \n",
      "2           3           3           3            1  ...            2   \n",
      "3           3           3           3            1  ...            2   \n",
      "4           3           3           3            2  ...            2   \n",
      "5           3           3           3            1  ...            2   \n",
      "6           3           3           3            1  ...            2   \n",
      "7           3           1           3            3  ...            2   \n",
      "8           3           1           3            1  ...            2   \n",
      "9           2           2           2            1  ...            2   \n",
      "\n",
      "   attribute49  attribute50  attribute51  attribute52  attribute53  \\\n",
      "0            2            2            2            2            1   \n",
      "1            2            2            2            2            2   \n",
      "2            2            2            2            2            2   \n",
      "3            2            2            2            2            2   \n",
      "4            2            2            2            2            2   \n",
      "5            2            2            2            2            2   \n",
      "6            2            2            2            1            2   \n",
      "7            2            1            2            2            2   \n",
      "8            2            2            2            2            2   \n",
      "9            2            2            1            3            2   \n",
      "\n",
      "   attribute54  attribute55  attribute56  attribute57  \n",
      "0            1            1            2            2  \n",
      "1            2            1            2            2  \n",
      "2            2            2            1            2  \n",
      "3            2            2            2            2  \n",
      "4            2            1            2            2  \n",
      "5            2            2            1            2  \n",
      "6            2            2            1            2  \n",
      "7            2            1            2            2  \n",
      "8            2            1            2            2  \n",
      "9            1            1            2            2  \n",
      "\n",
      "[10 rows x 57 columns]\n",
      "(32, 57)\n",
      "class          0\n",
      "attribute2     0\n",
      "attribute3     0\n",
      "attribute4     0\n",
      "attribute5     4\n",
      "attribute6     0\n",
      "attribute7     0\n",
      "attribute8     0\n",
      "attribute9     0\n",
      "attribute10    0\n",
      "attribute11    0\n",
      "attribute12    0\n",
      "attribute13    0\n",
      "attribute14    0\n",
      "attribute15    0\n",
      "attribute16    0\n",
      "attribute17    0\n",
      "attribute18    0\n",
      "attribute19    0\n",
      "attribute20    0\n",
      "attribute21    0\n",
      "attribute22    0\n",
      "attribute23    0\n",
      "attribute24    0\n",
      "attribute25    0\n",
      "attribute26    0\n",
      "attribute27    0\n",
      "attribute28    0\n",
      "attribute29    0\n",
      "attribute30    0\n",
      "attribute31    0\n",
      "attribute32    0\n",
      "attribute33    0\n",
      "attribute34    0\n",
      "attribute35    0\n",
      "attribute36    0\n",
      "attribute37    0\n",
      "attribute38    0\n",
      "attribute39    1\n",
      "attribute40    0\n",
      "attribute41    0\n",
      "attribute42    0\n",
      "attribute43    0\n",
      "attribute44    0\n",
      "attribute45    0\n",
      "attribute46    0\n",
      "attribute47    0\n",
      "attribute48    0\n",
      "attribute49    0\n",
      "attribute50    0\n",
      "attribute51    0\n",
      "attribute52    0\n",
      "attribute53    0\n",
      "attribute54    0\n",
      "attribute55    0\n",
      "attribute56    0\n",
      "attribute57    0\n",
      "dtype: int64\n"
     ]
    }
   ],
   "source": [
    "print(df.head(10))#Print all data of top 10 rows\n",
    "print(df.shape)#Print the row and clumn count of the data\n",
    "print(df.isna().sum())#Print all columns with empty data along with sum of empty data"
   ]
  },
  {
   "cell_type": "code",
   "execution_count": 16,
   "metadata": {
    "colab": {
     "base_uri": "https://localhost:8080/"
    },
    "id": "ogOhbguT16Ln",
    "outputId": "79d03e64-1345-49d2-9942-130e2953fc6c"
   },
   "outputs": [
    {
     "name": "stdout",
     "output_type": "stream",
     "text": [
      "2    13\n",
      "3    10\n",
      "1     9\n",
      "Name: class, dtype: int64\n",
      "class          int64\n",
      "attribute2     int64\n",
      "attribute3     int64\n",
      "attribute4     int64\n",
      "attribute6     int64\n",
      "attribute7     int64\n",
      "attribute8     int64\n",
      "attribute9     int64\n",
      "attribute10    int64\n",
      "attribute11    int64\n",
      "attribute12    int64\n",
      "attribute13    int64\n",
      "attribute14    int64\n",
      "attribute15    int64\n",
      "attribute16    int64\n",
      "attribute17    int64\n",
      "attribute18    int64\n",
      "attribute19    int64\n",
      "attribute20    int64\n",
      "attribute21    int64\n",
      "attribute22    int64\n",
      "attribute23    int64\n",
      "attribute24    int64\n",
      "attribute25    int64\n",
      "attribute26    int64\n",
      "attribute27    int64\n",
      "attribute28    int64\n",
      "attribute29    int64\n",
      "attribute30    int64\n",
      "attribute31    int64\n",
      "attribute32    int64\n",
      "attribute33    int64\n",
      "attribute34    int64\n",
      "attribute35    int64\n",
      "attribute36    int64\n",
      "attribute37    int64\n",
      "attribute38    int64\n",
      "attribute40    int64\n",
      "attribute41    int64\n",
      "attribute42    int64\n",
      "attribute43    int64\n",
      "attribute44    int64\n",
      "attribute45    int64\n",
      "attribute46    int64\n",
      "attribute47    int64\n",
      "attribute48    int64\n",
      "attribute49    int64\n",
      "attribute50    int64\n",
      "attribute51    int64\n",
      "attribute52    int64\n",
      "attribute53    int64\n",
      "attribute54    int64\n",
      "attribute55    int64\n",
      "attribute56    int64\n",
      "attribute57    int64\n",
      "dtype: object\n"
     ]
    }
   ],
   "source": [
    "df=df.dropna(axis=1)#Drop the column with empty data\n",
    "print(df.iloc[:,0].value_counts())#Visualize the data of diagnosis column with y label counts\n",
    "print(df.dtypes)#Data type of data in each column"
   ]
  },
  {
   "cell_type": "code",
   "execution_count": 17,
   "metadata": {
    "id": "BZ6UeNGJ2Abw"
   },
   "outputs": [],
   "source": [
    "#Splitting data for dependence\n",
    "X=df.iloc[:,1:].values#Features of cancerous and non cancerous patients\n",
    "Y=df.iloc[:,0].values#Whether patient has cancer or not"
   ]
  },
  {
   "cell_type": "code",
   "execution_count": 18,
   "metadata": {
    "id": "tFKZQnYI24EW"
   },
   "outputs": [],
   "source": [
    "#Train test split\n",
    "from sklearn.model_selection import train_test_split\n",
    "X_train,X_test,Y_train,Y_test=train_test_split(X,Y,test_size=0.25,random_state=0)"
   ]
  },
  {
   "cell_type": "code",
   "execution_count": 19,
   "metadata": {
    "id": "nW-6qI-s2LcG"
   },
   "outputs": [],
   "source": [
    "from sklearn.preprocessing import StandardScaler\n",
    "sc=StandardScaler()\n",
    "X_train=sc.fit_transform(X_train)#Scaling X_train\n",
    "X_test=sc.fit_transform(X_test)#Scaling X_test"
   ]
  },
  {
   "cell_type": "code",
   "execution_count": 22,
   "metadata": {},
   "outputs": [
    {
     "name": "stdout",
     "output_type": "stream",
     "text": [
      "\n",
      "Improved Accuracy\n",
      "SVM: 0.875\n",
      "Gradient Boosting: 1.0\n",
      "MLP Neural Network: 1.0\n",
      "\n",
      "Model 1\n",
      "Classification Report\n",
      "              precision    recall  f1-score   support\n",
      "\n",
      "           1       0.00      0.00      0.00         1\n",
      "           2       0.50      0.75      0.60         4\n",
      "           3       1.00      0.33      0.50         3\n",
      "\n",
      "    accuracy                           0.50         8\n",
      "   macro avg       0.50      0.36      0.37         8\n",
      "weighted avg       0.62      0.50      0.49         8\n",
      "\n",
      "Accuracy Score: 0.5\n",
      "\n",
      "Model 2\n",
      "Classification Report\n",
      "              precision    recall  f1-score   support\n",
      "\n",
      "           1       0.25      1.00      0.40         1\n",
      "           2       0.50      0.50      0.50         4\n",
      "           3       0.00      0.00      0.00         3\n",
      "\n",
      "    accuracy                           0.38         8\n",
      "   macro avg       0.25      0.50      0.30         8\n",
      "weighted avg       0.28      0.38      0.30         8\n",
      "\n",
      "Accuracy Score: 0.375\n",
      "\n",
      "Model 3\n",
      "Classification Report\n",
      "              precision    recall  f1-score   support\n",
      "\n",
      "           1       0.50      1.00      0.67         1\n",
      "           2       0.67      0.50      0.57         4\n",
      "           3       0.67      0.67      0.67         3\n",
      "\n",
      "    accuracy                           0.62         8\n",
      "   macro avg       0.61      0.72      0.63         8\n",
      "weighted avg       0.65      0.62      0.62         8\n",
      "\n",
      "Accuracy Score: 0.625\n"
     ]
    }
   ],
   "source": [
    "from sklearn.svm import SVC\n",
    "from sklearn.ensemble import GradientBoostingClassifier\n",
    "from sklearn.neural_network import MLPClassifier\n",
    "\n",
    "def improved_models(X_train, Y_train):\n",
    "    # Initialize models\n",
    "    svm = SVC(kernel='rbf', random_state=0)\n",
    "    gbm = GradientBoostingClassifier(random_state=0)\n",
    "    mlp = MLPClassifier(hidden_layer_sizes=(100,), max_iter=1000, random_state=0)\n",
    "\n",
    "    # Train models\n",
    "    svm.fit(X_train, Y_train)\n",
    "    gbm.fit(X_train, Y_train)\n",
    "    mlp.fit(X_train, Y_train)\n",
    "\n",
    "    # Printing accuracy\n",
    "    print(\"SVM:\", svm.score(X_train, Y_train))\n",
    "    print(\"Gradient Boosting:\", gbm.score(X_train, Y_train))\n",
    "    print(\"MLP Neural Network:\", mlp.score(X_train, Y_train))\n",
    "\n",
    "    return svm, gbm, mlp\n",
    "\n",
    "print(\"\\nImproved Accuracy\")\n",
    "improved_model = improved_models(X_train, Y_train)\n",
    "\n",
    "# Metrics of the improved models\n",
    "for i, model in enumerate(improved_model):\n",
    "    print(\"\\nModel\", i+1)\n",
    "    print(\"Classification Report\")\n",
    "    print(classification_report(Y_test, model.predict(X_test)))\n",
    "    print(\"Accuracy Score:\", accuracy_score(Y_test, model.predict(X_test)))\n"
   ]
  },
  {
   "cell_type": "code",
   "execution_count": null,
   "metadata": {},
   "outputs": [],
   "source": []
  }
 ],
 "metadata": {
  "colab": {
   "name": "Lung Cancer.ipynb",
   "provenance": []
  },
  "kernelspec": {
   "display_name": "Python 3 (ipykernel)",
   "language": "python",
   "name": "python3"
  },
  "language_info": {
   "codemirror_mode": {
    "name": "ipython",
    "version": 3
   },
   "file_extension": ".py",
   "mimetype": "text/x-python",
   "name": "python",
   "nbconvert_exporter": "python",
   "pygments_lexer": "ipython3",
   "version": "3.9.12"
  }
 },
 "nbformat": 4,
 "nbformat_minor": 1
}
